{
 "cells": [
  {
   "cell_type": "markdown",
   "metadata": {},
   "source": [
    "# Домашнее задание"
   ]
  },
  {
   "cell_type": "code",
   "execution_count": 1,
   "metadata": {},
   "outputs": [],
   "source": [
    "import pandas as pd"
   ]
  },
  {
   "cell_type": "markdown",
   "metadata": {},
   "source": [
    "**Задание 1**<br>\n",
    "Скачайте с сайта https://grouplens.org/datasets/movielens/ датасет любого размера.<br> Определите какому фильму было выставлено больше всего оценок 5.0.\n"
   ]
  },
  {
   "cell_type": "code",
   "execution_count": 63,
   "metadata": {},
   "outputs": [],
   "source": [
    "movies = pd.read_csv('ml-25m/movies.csv')\n",
    "ratings = pd.read_csv('ml-25m/ratings.csv')\n",
    "ratings = ratings[ ratings.rating == 5.0]\n",
    "\n",
    "any_table = pd.merge(movies, ratings, how='inner', on = ('movieId'))"
   ]
  },
  {
   "cell_type": "code",
   "execution_count": 64,
   "metadata": {},
   "outputs": [
    {
     "data": {
      "text/plain": [
       "'Shawshank Redemption, The (1994)'"
      ]
     },
     "execution_count": 64,
     "metadata": {},
     "output_type": "execute_result"
    }
   ],
   "source": [
    "any_table2 = any_table.groupby(['title'])['movieId'].count().idxmax()\n",
    "any_table2"
   ]
  },
  {
   "cell_type": "markdown",
   "metadata": {},
   "source": [
    "**Задание 2**<br>\n",
    "По данным файла power.csv посчитайте суммарное потребление стран Прибалтики (Латвия, Литва и Эстония) категорий 4, 12 и 21 за период с 2005 по 2010 года. Не учитывайте в расчетах отрицательные значения quantity.\n"
   ]
  },
  {
   "cell_type": "code",
   "execution_count": 107,
   "metadata": {},
   "outputs": [
    {
     "data": {
      "text/plain": [
       "78044.0"
      ]
     },
     "execution_count": 107,
     "metadata": {},
     "output_type": "execute_result"
    }
   ],
   "source": [
    "data_power = pd.read_csv('power.csv')\n",
    "\n",
    "#по 2010 включительно?\n",
    "\n",
    "filtered_countries = data_power[ \n",
    "    ((data_power['country']=='Latvia') | (data_power['country']=='Litva') | (data_power['country']=='Estonia')) \n",
    "    & ((data_power['category']==12) | (data_power['category']==4) | (data_power['category']==21)) \n",
    "    & ((data_power['year'] > 2005)& (data_power['year'] < 2010) )\n",
    "    & (data_power['quantity'] > 0)]\n",
    "\n",
    "filtered_countries['quantity'].sum()\n"
   ]
  },
  {
   "cell_type": "code",
   "execution_count": 81,
   "metadata": {},
   "outputs": [
    {
     "data": {
      "text/plain": [
       "array(['Estonia'], dtype=object)"
      ]
     },
     "execution_count": 81,
     "metadata": {},
     "output_type": "execute_result"
    }
   ],
   "source": [
    "data_power[ data_power['country'].str.contains('ston', case=False) ]['country'].unique()"
   ]
  },
  {
   "cell_type": "markdown",
   "metadata": {},
   "source": [
    "**Задание 3**<br>\n",
    "Выберите страницу любого сайта с табличными данными. Импортируйте таблицы в pandas dataframe.<br>\n",
    "Примеры страниц (необязательно брать именно эти): \n",
    "https://fortrader.org/quotes\n",
    "https://www.finanz.ru/valyuty/v-realnom-vremeni\n"
   ]
  },
  {
   "cell_type": "code",
   "execution_count": 23,
   "metadata": {},
   "outputs": [
    {
     "data": {
      "text/html": [
       "<div>\n",
       "<style scoped>\n",
       "    .dataframe tbody tr th:only-of-type {\n",
       "        vertical-align: middle;\n",
       "    }\n",
       "\n",
       "    .dataframe tbody tr th {\n",
       "        vertical-align: top;\n",
       "    }\n",
       "\n",
       "    .dataframe thead th {\n",
       "        text-align: right;\n",
       "    }\n",
       "</style>\n",
       "<table border=\"1\" class=\"dataframe\">\n",
       "  <thead>\n",
       "    <tr style=\"text-align: right;\">\n",
       "      <th></th>\n",
       "      <th>Type</th>\n",
       "      <th>Last</th>\n",
       "      <th>Chg.</th>\n",
       "      <th>Chg.%</th>\n",
       "      <th>Time</th>\n",
       "    </tr>\n",
       "  </thead>\n",
       "  <tbody>\n",
       "    <tr>\n",
       "      <td>0</td>\n",
       "      <td>Серебро Цена на серебро</td>\n",
       "      <td>17.606</td>\n",
       "      <td>-0.0470</td>\n",
       "      <td>-0.2660</td>\n",
       "      <td>NaN</td>\n",
       "    </tr>\n",
       "    <tr>\n",
       "      <td>1</td>\n",
       "      <td>Палладий Цена на Палладий</td>\n",
       "      <td>2333.900</td>\n",
       "      <td>105.3500</td>\n",
       "      <td>4.7300</td>\n",
       "      <td>NaN</td>\n",
       "    </tr>\n",
       "    <tr>\n",
       "      <td>2</td>\n",
       "      <td>Золото Цена золота на бирже</td>\n",
       "      <td>1553.690</td>\n",
       "      <td>-22.9200</td>\n",
       "      <td>-1.4500</td>\n",
       "      <td>NaN</td>\n",
       "    </tr>\n",
       "    <tr>\n",
       "      <td>3</td>\n",
       "      <td>Платина Цены на платину</td>\n",
       "      <td>967.000</td>\n",
       "      <td>-2.4000</td>\n",
       "      <td>-0.2000</td>\n",
       "      <td>NaN</td>\n",
       "    </tr>\n",
       "    <tr>\n",
       "      <td>4</td>\n",
       "      <td>Медь Цена меди на бирже</td>\n",
       "      <td>2.543</td>\n",
       "      <td>0.0375</td>\n",
       "      <td>1.4967</td>\n",
       "      <td>NaN</td>\n",
       "    </tr>\n",
       "  </tbody>\n",
       "</table>\n",
       "</div>"
      ],
      "text/plain": [
       "                          Type      Last      Chg.   Chg.%  Time\n",
       "0      Серебро Цена на серебро    17.606   -0.0470 -0.2660   NaN\n",
       "1    Палладий Цена на Палладий  2333.900  105.3500  4.7300   NaN\n",
       "2  Золото Цена золота на бирже  1553.690  -22.9200 -1.4500   NaN\n",
       "3      Платина Цены на платину   967.000   -2.4000 -0.2000   NaN\n",
       "4      Медь Цена меди на бирже     2.543    0.0375  1.4967   NaN"
      ]
     },
     "execution_count": 23,
     "metadata": {},
     "output_type": "execute_result"
    }
   ],
   "source": [
    "df = pd.read_html('https://fortrader.org/quotes')\n",
    "df[2]"
   ]
  },
  {
   "cell_type": "code",
   "execution_count": null,
   "metadata": {},
   "outputs": [],
   "source": []
  },
  {
   "cell_type": "code",
   "execution_count": null,
   "metadata": {},
   "outputs": [],
   "source": []
  }
 ],
 "metadata": {
  "kernelspec": {
   "display_name": "Python 3",
   "language": "python",
   "name": "python3"
  },
  "language_info": {
   "codemirror_mode": {
    "name": "ipython",
    "version": 3
   },
   "file_extension": ".py",
   "mimetype": "text/x-python",
   "name": "python",
   "nbconvert_exporter": "python",
   "pygments_lexer": "ipython3",
   "version": "3.7.4"
  }
 },
 "nbformat": 4,
 "nbformat_minor": 2
}
